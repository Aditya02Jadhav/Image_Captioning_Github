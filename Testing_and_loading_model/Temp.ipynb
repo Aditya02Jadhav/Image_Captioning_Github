{
 "cells": [
  {
   "cell_type": "code",
   "execution_count": 1,
   "id": "f5fa34ab-cf77-4228-a0d7-647c4cf9e9f4",
   "metadata": {},
   "outputs": [],
   "source": [
    "import loaded_model\n",
    "# import keras.utils as image\n",
    "# !pip install pillow\n",
    "\n",
    "# from tensorflow.keras.preprocessing import image as keras_image"
   ]
  },
  {
   "cell_type": "code",
   "execution_count": 13,
   "id": "b2f69d0d-a2ec-4983-9e89-3128b811f45a",
   "metadata": {},
   "outputs": [
    {
     "name": "stdout",
     "output_type": "stream",
     "text": [
      "1/1 [==============================] - 0s 210ms/step\n",
      "1/1 [==============================] - 0s 94ms/step\n",
      "1/1 [==============================] - 0s 90ms/step\n",
      "1/1 [==============================] - 0s 94ms/step\n",
      "1/1 [==============================] - 0s 93ms/step\n",
      "1/1 [==============================] - 0s 101ms/step\n",
      "1/1 [==============================] - 0s 99ms/step\n",
      "1/1 [==============================] - 0s 96ms/step\n",
      "1/1 [==============================] - 0s 93ms/step\n"
     ]
    },
    {
     "data": {
      "text/plain": [
       "'in red shirt is playing'"
      ]
     },
     "execution_count": 13,
     "metadata": {},
     "output_type": "execute_result"
    }
   ],
   "source": [
    "hello_moto.caption_this_image(r\"give the path of image as input to test the model\")"
   ]
  },
  {
   "cell_type": "code",
   "execution_count": null,
   "id": "5916fdd3-ed2a-4ec6-acd1-05c8e30ec40f",
   "metadata": {},
   "outputs": [],
   "source": []
  }
 ],
 "metadata": {
  "kernelspec": {
   "display_name": "Python 3 (ipykernel)",
   "language": "python",
   "name": "python3"
  },
  "language_info": {
   "codemirror_mode": {
    "name": "ipython",
    "version": 3
   },
   "file_extension": ".py",
   "mimetype": "text/x-python",
   "name": "python",
   "nbconvert_exporter": "python",
   "pygments_lexer": "ipython3",
   "version": "3.9.18"
  }
 },
 "nbformat": 4,
 "nbformat_minor": 5
}
